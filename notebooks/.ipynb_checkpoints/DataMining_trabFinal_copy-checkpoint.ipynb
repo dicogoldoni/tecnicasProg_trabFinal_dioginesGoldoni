{
 "cells": [
  {
   "cell_type": "code",
   "execution_count": 7,
   "metadata": {},
   "outputs": [],
   "source": [
    "import psycopg2\n",
    "import pandas as pd\n",
    "from sqlalchemy import create_engine\n",
    "\n",
    "engine = create_engine('postgresql://ppgca@postgres:5432/equations')"
   ]
  },
  {
   "cell_type": "code",
   "execution_count": 10,
   "metadata": {},
   "outputs": [],
   "source": [
    "#connection = psycopg2.connect(\"dbname='equations' user='ppgca' password='ppgca' host='postgres'\")\n",
    "df = pd.read_sql_query('SELECT * FROM equations',con=engine)"
   ]
  },
  {
   "cell_type": "code",
   "execution_count": 12,
   "metadata": {},
   "outputs": [
    {
     "data": {
      "text/html": [
       "<div>\n",
       "<style scoped>\n",
       "    .dataframe tbody tr th:only-of-type {\n",
       "        vertical-align: middle;\n",
       "    }\n",
       "\n",
       "    .dataframe tbody tr th {\n",
       "        vertical-align: top;\n",
       "    }\n",
       "\n",
       "    .dataframe thead th {\n",
       "        text-align: right;\n",
       "    }\n",
       "</style>\n",
       "<table border=\"1\" class=\"dataframe\">\n",
       "  <thead>\n",
       "    <tr style=\"text-align: right;\">\n",
       "      <th></th>\n",
       "      <th>numbers_in_equation</th>\n",
       "      <th>additions</th>\n",
       "      <th>subtractions</th>\n",
       "      <th>multiplications</th>\n",
       "      <th>brackets</th>\n",
       "      <th>divisions</th>\n",
       "    </tr>\n",
       "  </thead>\n",
       "  <tbody>\n",
       "    <tr>\n",
       "      <th>0</th>\n",
       "      <td>3</td>\n",
       "      <td>1</td>\n",
       "      <td>1</td>\n",
       "      <td>0</td>\n",
       "      <td>0</td>\n",
       "      <td>0</td>\n",
       "    </tr>\n",
       "    <tr>\n",
       "      <th>1</th>\n",
       "      <td>3</td>\n",
       "      <td>1</td>\n",
       "      <td>1</td>\n",
       "      <td>0</td>\n",
       "      <td>0</td>\n",
       "      <td>0</td>\n",
       "    </tr>\n",
       "    <tr>\n",
       "      <th>2</th>\n",
       "      <td>2</td>\n",
       "      <td>1</td>\n",
       "      <td>0</td>\n",
       "      <td>0</td>\n",
       "      <td>0</td>\n",
       "      <td>0</td>\n",
       "    </tr>\n",
       "    <tr>\n",
       "      <th>3</th>\n",
       "      <td>2</td>\n",
       "      <td>0</td>\n",
       "      <td>0</td>\n",
       "      <td>0</td>\n",
       "      <td>0</td>\n",
       "      <td>0</td>\n",
       "    </tr>\n",
       "    <tr>\n",
       "      <th>4</th>\n",
       "      <td>2</td>\n",
       "      <td>0</td>\n",
       "      <td>0</td>\n",
       "      <td>0</td>\n",
       "      <td>0</td>\n",
       "      <td>0</td>\n",
       "    </tr>\n",
       "  </tbody>\n",
       "</table>\n",
       "</div>"
      ],
      "text/plain": [
       "   numbers_in_equation  additions  subtractions  multiplications  brackets  \\\n",
       "0                    3          1             1                0         0   \n",
       "1                    3          1             1                0         0   \n",
       "2                    2          1             0                0         0   \n",
       "3                    2          0             0                0         0   \n",
       "4                    2          0             0                0         0   \n",
       "\n",
       "   divisions  \n",
       "0          0  \n",
       "1          0  \n",
       "2          0  \n",
       "3          0  \n",
       "4          0  "
      ]
     },
     "execution_count": 12,
     "metadata": {},
     "output_type": "execute_result"
    }
   ],
   "source": [
    "import psycopg2\n",
    "import pandas as pd\n",
    "import seaborn as sns\n",
    "import matplotlib.pyplot as plt\n",
    "from sqlalchemy import create_engine\n",
    "from sklearn.cluster import KMeans\n",
    "from sklearn.preprocessing import LabelEncoder\n",
    "from sklearn.preprocessing import MinMaxScaler\n",
    "from sklearn.preprocessing import StandardScaler\n",
    "from sklearn import metrics\n",
    "from sklearn.cluster import AgglomerativeClustering\n",
    "\n",
    "%matplotlib inline\n",
    "\n",
    "engine = create_engine('postgresql://ppgca@postgres:5432/equations')\n",
    "data = pd.read_sql_query('SELECT * FROM equations', engine)\n",
    "\n",
    "#data = pd.read_csv('passos.csv', delimiter=';')\n",
    "data.head()"
   ]
  },
  {
   "cell_type": "code",
   "execution_count": 2,
   "metadata": {},
   "outputs": [],
   "source": [
    "import re\n",
    "# Creates column <equation_size> based on the # of digits\n",
    "numbers_in_equation = data['equation'].apply(lambda x: len(re.findall('[0-9]+', x)))\n",
    "data.insert(1, 'numbers_in_equation', numbers_in_equation)"
   ]
  },
  {
   "cell_type": "code",
   "execution_count": 3,
   "metadata": {
    "scrolled": true
   },
   "outputs": [
    {
     "data": {
      "text/html": [
       "<div>\n",
       "<style scoped>\n",
       "    .dataframe tbody tr th:only-of-type {\n",
       "        vertical-align: middle;\n",
       "    }\n",
       "\n",
       "    .dataframe tbody tr th {\n",
       "        vertical-align: top;\n",
       "    }\n",
       "\n",
       "    .dataframe thead th {\n",
       "        text-align: right;\n",
       "    }\n",
       "</style>\n",
       "<table border=\"1\" class=\"dataframe\">\n",
       "  <thead>\n",
       "    <tr style=\"text-align: right;\">\n",
       "      <th></th>\n",
       "      <th>equation</th>\n",
       "      <th>numbers_in_equation</th>\n",
       "      <th>answer</th>\n",
       "      <th>correct</th>\n",
       "    </tr>\n",
       "  </thead>\n",
       "  <tbody>\n",
       "    <tr>\n",
       "      <td>0</td>\n",
       "      <td>x+15=45-2x</td>\n",
       "      <td>3</td>\n",
       "      <td>x-2x=45-15</td>\n",
       "      <td>0</td>\n",
       "    </tr>\n",
       "    <tr>\n",
       "      <td>1</td>\n",
       "      <td>x+15=45-2x</td>\n",
       "      <td>3</td>\n",
       "      <td>x-2x=45+15</td>\n",
       "      <td>0</td>\n",
       "    </tr>\n",
       "    <tr>\n",
       "      <td>2</td>\n",
       "      <td>x+15=45-2x</td>\n",
       "      <td>3</td>\n",
       "      <td>x+2x=45-15</td>\n",
       "      <td>1</td>\n",
       "    </tr>\n",
       "    <tr>\n",
       "      <td>3</td>\n",
       "      <td>x+15=45-2x</td>\n",
       "      <td>3</td>\n",
       "      <td>3x=30</td>\n",
       "      <td>1</td>\n",
       "    </tr>\n",
       "    <tr>\n",
       "      <td>4</td>\n",
       "      <td>x+15=45-2x</td>\n",
       "      <td>3</td>\n",
       "      <td>x=(30)/(3)</td>\n",
       "      <td>1</td>\n",
       "    </tr>\n",
       "    <tr>\n",
       "      <td>5</td>\n",
       "      <td>x+15=45-2x</td>\n",
       "      <td>3</td>\n",
       "      <td>x=10</td>\n",
       "      <td>1</td>\n",
       "    </tr>\n",
       "    <tr>\n",
       "      <td>6</td>\n",
       "      <td>x+4=10</td>\n",
       "      <td>2</td>\n",
       "      <td>x=10-4</td>\n",
       "      <td>1</td>\n",
       "    </tr>\n",
       "    <tr>\n",
       "      <td>7</td>\n",
       "      <td>x+4=10</td>\n",
       "      <td>2</td>\n",
       "      <td>x=6</td>\n",
       "      <td>1</td>\n",
       "    </tr>\n",
       "    <tr>\n",
       "      <td>8</td>\n",
       "      <td>x+1=23</td>\n",
       "      <td>2</td>\n",
       "      <td>x=23-1</td>\n",
       "      <td>1</td>\n",
       "    </tr>\n",
       "    <tr>\n",
       "      <td>9</td>\n",
       "      <td>x+1=23</td>\n",
       "      <td>2</td>\n",
       "      <td>x=22</td>\n",
       "      <td>1</td>\n",
       "    </tr>\n",
       "  </tbody>\n",
       "</table>\n",
       "</div>"
      ],
      "text/plain": [
       "     equation  numbers_in_equation      answer  correct\n",
       "0  x+15=45-2x                    3  x-2x=45-15        0\n",
       "1  x+15=45-2x                    3  x-2x=45+15        0\n",
       "2  x+15=45-2x                    3  x+2x=45-15        1\n",
       "3  x+15=45-2x                    3       3x=30        1\n",
       "4  x+15=45-2x                    3  x=(30)/(3)        1\n",
       "5  x+15=45-2x                    3        x=10        1\n",
       "6      x+4=10                    2      x=10-4        1\n",
       "7      x+4=10                    2         x=6        1\n",
       "8      x+1=23                    2      x=23-1        1\n",
       "9      x+1=23                    2        x=22        1"
      ]
     },
     "execution_count": 3,
     "metadata": {},
     "output_type": "execute_result"
    }
   ],
   "source": [
    "data.head(10)"
   ]
  },
  {
   "cell_type": "code",
   "execution_count": 4,
   "metadata": {},
   "outputs": [],
   "source": [
    "# Creates columns based on the # of arithmetic operations and brackes on the equation\n",
    "additions = data['equation'].apply(lambda x: x.count('+'))\n",
    "data.insert(2, 'additions', additions)\n",
    "\n",
    "subtractions = data['equation'].apply(lambda x: x.count('-'))\n",
    "data.insert(3, 'subtractions', subtractions)\n",
    "\n",
    "multiplications = data['equation'].apply(lambda x: x.count('*'))\n",
    "data.insert(4, 'multiplications', multiplications)\n",
    "\n",
    "divisions = data['equation'].apply(lambda x: x.count('/'))\n",
    "data.insert(5, 'divisions', divisions)\n",
    "\n",
    "brackets = data['equation'].apply(lambda x: x.count(')'))\n",
    "data.insert(5, 'brackets', brackets)\n",
    "\n",
    "# For total count of operations\n",
    "#operations_count = data['equation'].apply(lambda x: x.count('+'))"
   ]
  },
  {
   "cell_type": "code",
   "execution_count": 5,
   "metadata": {
    "scrolled": true
   },
   "outputs": [
    {
     "data": {
      "text/html": [
       "<div>\n",
       "<style scoped>\n",
       "    .dataframe tbody tr th:only-of-type {\n",
       "        vertical-align: middle;\n",
       "    }\n",
       "\n",
       "    .dataframe tbody tr th {\n",
       "        vertical-align: top;\n",
       "    }\n",
       "\n",
       "    .dataframe thead th {\n",
       "        text-align: right;\n",
       "    }\n",
       "</style>\n",
       "<table border=\"1\" class=\"dataframe\">\n",
       "  <thead>\n",
       "    <tr style=\"text-align: right;\">\n",
       "      <th></th>\n",
       "      <th>equation</th>\n",
       "      <th>numbers_in_equation</th>\n",
       "      <th>additions</th>\n",
       "      <th>subtractions</th>\n",
       "      <th>multiplications</th>\n",
       "      <th>brackets</th>\n",
       "      <th>divisions</th>\n",
       "      <th>answer</th>\n",
       "      <th>correct</th>\n",
       "    </tr>\n",
       "  </thead>\n",
       "  <tbody>\n",
       "    <tr>\n",
       "      <td>40242</td>\n",
       "      <td>10=3*(x-2)-(x-18)</td>\n",
       "      <td>4</td>\n",
       "      <td>0</td>\n",
       "      <td>3</td>\n",
       "      <td>1</td>\n",
       "      <td>2</td>\n",
       "      <td>0</td>\n",
       "      <td>10=3x-6-x+18</td>\n",
       "      <td>1</td>\n",
       "    </tr>\n",
       "    <tr>\n",
       "      <td>40243</td>\n",
       "      <td>10=3*(x-2)-(x-18)</td>\n",
       "      <td>4</td>\n",
       "      <td>0</td>\n",
       "      <td>3</td>\n",
       "      <td>1</td>\n",
       "      <td>2</td>\n",
       "      <td>0</td>\n",
       "      <td>x-3x=18-6-10</td>\n",
       "      <td>1</td>\n",
       "    </tr>\n",
       "    <tr>\n",
       "      <td>40244</td>\n",
       "      <td>10=3*(x-2)-(x-18)</td>\n",
       "      <td>4</td>\n",
       "      <td>0</td>\n",
       "      <td>3</td>\n",
       "      <td>1</td>\n",
       "      <td>2</td>\n",
       "      <td>0</td>\n",
       "      <td>2x=2</td>\n",
       "      <td>0</td>\n",
       "    </tr>\n",
       "    <tr>\n",
       "      <td>40245</td>\n",
       "      <td>10=3*(x-2)-(x-18)</td>\n",
       "      <td>4</td>\n",
       "      <td>0</td>\n",
       "      <td>3</td>\n",
       "      <td>1</td>\n",
       "      <td>2</td>\n",
       "      <td>0</td>\n",
       "      <td>x=1</td>\n",
       "      <td>0</td>\n",
       "    </tr>\n",
       "    <tr>\n",
       "      <td>40246</td>\n",
       "      <td>10=3*(x-2)-(x-18)</td>\n",
       "      <td>4</td>\n",
       "      <td>0</td>\n",
       "      <td>3</td>\n",
       "      <td>1</td>\n",
       "      <td>2</td>\n",
       "      <td>0</td>\n",
       "      <td>x=-1</td>\n",
       "      <td>1</td>\n",
       "    </tr>\n",
       "  </tbody>\n",
       "</table>\n",
       "</div>"
      ],
      "text/plain": [
       "                equation  numbers_in_equation  additions  subtractions  \\\n",
       "40242  10=3*(x-2)-(x-18)                    4          0             3   \n",
       "40243  10=3*(x-2)-(x-18)                    4          0             3   \n",
       "40244  10=3*(x-2)-(x-18)                    4          0             3   \n",
       "40245  10=3*(x-2)-(x-18)                    4          0             3   \n",
       "40246  10=3*(x-2)-(x-18)                    4          0             3   \n",
       "\n",
       "       multiplications  brackets  divisions        answer  correct  \n",
       "40242                1         2          0  10=3x-6-x+18        1  \n",
       "40243                1         2          0  x-3x=18-6-10        1  \n",
       "40244                1         2          0          2x=2        0  \n",
       "40245                1         2          0           x=1        0  \n",
       "40246                1         2          0          x=-1        1  "
      ]
     },
     "execution_count": 5,
     "metadata": {},
     "output_type": "execute_result"
    }
   ],
   "source": [
    "data.tail()"
   ]
  },
  {
   "cell_type": "code",
   "execution_count": 6,
   "metadata": {},
   "outputs": [
    {
     "data": {
      "text/html": [
       "<div>\n",
       "<style scoped>\n",
       "    .dataframe tbody tr th:only-of-type {\n",
       "        vertical-align: middle;\n",
       "    }\n",
       "\n",
       "    .dataframe tbody tr th {\n",
       "        vertical-align: top;\n",
       "    }\n",
       "\n",
       "    .dataframe thead th {\n",
       "        text-align: right;\n",
       "    }\n",
       "</style>\n",
       "<table border=\"1\" class=\"dataframe\">\n",
       "  <thead>\n",
       "    <tr style=\"text-align: right;\">\n",
       "      <th></th>\n",
       "      <th>equation</th>\n",
       "      <th>numbers_in_equation</th>\n",
       "      <th>additions</th>\n",
       "      <th>subtractions</th>\n",
       "      <th>multiplications</th>\n",
       "      <th>brackets</th>\n",
       "      <th>divisions</th>\n",
       "      <th>correct</th>\n",
       "    </tr>\n",
       "  </thead>\n",
       "  <tbody>\n",
       "    <tr>\n",
       "      <td>40242</td>\n",
       "      <td>10=3*(x-2)-(x-18)</td>\n",
       "      <td>4</td>\n",
       "      <td>0</td>\n",
       "      <td>3</td>\n",
       "      <td>1</td>\n",
       "      <td>2</td>\n",
       "      <td>0</td>\n",
       "      <td>1</td>\n",
       "    </tr>\n",
       "    <tr>\n",
       "      <td>40243</td>\n",
       "      <td>10=3*(x-2)-(x-18)</td>\n",
       "      <td>4</td>\n",
       "      <td>0</td>\n",
       "      <td>3</td>\n",
       "      <td>1</td>\n",
       "      <td>2</td>\n",
       "      <td>0</td>\n",
       "      <td>1</td>\n",
       "    </tr>\n",
       "    <tr>\n",
       "      <td>40244</td>\n",
       "      <td>10=3*(x-2)-(x-18)</td>\n",
       "      <td>4</td>\n",
       "      <td>0</td>\n",
       "      <td>3</td>\n",
       "      <td>1</td>\n",
       "      <td>2</td>\n",
       "      <td>0</td>\n",
       "      <td>0</td>\n",
       "    </tr>\n",
       "    <tr>\n",
       "      <td>40245</td>\n",
       "      <td>10=3*(x-2)-(x-18)</td>\n",
       "      <td>4</td>\n",
       "      <td>0</td>\n",
       "      <td>3</td>\n",
       "      <td>1</td>\n",
       "      <td>2</td>\n",
       "      <td>0</td>\n",
       "      <td>0</td>\n",
       "    </tr>\n",
       "    <tr>\n",
       "      <td>40246</td>\n",
       "      <td>10=3*(x-2)-(x-18)</td>\n",
       "      <td>4</td>\n",
       "      <td>0</td>\n",
       "      <td>3</td>\n",
       "      <td>1</td>\n",
       "      <td>2</td>\n",
       "      <td>0</td>\n",
       "      <td>1</td>\n",
       "    </tr>\n",
       "  </tbody>\n",
       "</table>\n",
       "</div>"
      ],
      "text/plain": [
       "                equation  numbers_in_equation  additions  subtractions  \\\n",
       "40242  10=3*(x-2)-(x-18)                    4          0             3   \n",
       "40243  10=3*(x-2)-(x-18)                    4          0             3   \n",
       "40244  10=3*(x-2)-(x-18)                    4          0             3   \n",
       "40245  10=3*(x-2)-(x-18)                    4          0             3   \n",
       "40246  10=3*(x-2)-(x-18)                    4          0             3   \n",
       "\n",
       "       multiplications  brackets  divisions  correct  \n",
       "40242                1         2          0        1  \n",
       "40243                1         2          0        1  \n",
       "40244                1         2          0        0  \n",
       "40245                1         2          0        0  \n",
       "40246                1         2          0        1  "
      ]
     },
     "execution_count": 6,
     "metadata": {},
     "output_type": "execute_result"
    }
   ],
   "source": [
    "# Drop the column <answer>\n",
    "data.drop(['answer'], axis=1, inplace=True)\n",
    "data.tail()"
   ]
  },
  {
   "cell_type": "code",
   "execution_count": 7,
   "metadata": {},
   "outputs": [
    {
     "data": {
      "text/html": [
       "<div>\n",
       "<style scoped>\n",
       "    .dataframe tbody tr th:only-of-type {\n",
       "        vertical-align: middle;\n",
       "    }\n",
       "\n",
       "    .dataframe tbody tr th {\n",
       "        vertical-align: top;\n",
       "    }\n",
       "\n",
       "    .dataframe thead th {\n",
       "        text-align: right;\n",
       "    }\n",
       "</style>\n",
       "<table border=\"1\" class=\"dataframe\">\n",
       "  <thead>\n",
       "    <tr style=\"text-align: right;\">\n",
       "      <th></th>\n",
       "      <th>equation</th>\n",
       "      <th>numbers_in_equation</th>\n",
       "      <th>additions</th>\n",
       "      <th>subtractions</th>\n",
       "      <th>multiplications</th>\n",
       "      <th>brackets</th>\n",
       "      <th>divisions</th>\n",
       "      <th>correct</th>\n",
       "    </tr>\n",
       "  </thead>\n",
       "  <tbody>\n",
       "    <tr>\n",
       "      <td>40234</td>\n",
       "      <td>x+3*(x-1)-(x+9)=-147</td>\n",
       "      <td>4</td>\n",
       "      <td>2</td>\n",
       "      <td>3</td>\n",
       "      <td>1</td>\n",
       "      <td>2</td>\n",
       "      <td>0</td>\n",
       "      <td>0</td>\n",
       "    </tr>\n",
       "    <tr>\n",
       "      <td>40235</td>\n",
       "      <td>x+3*(x-1)-(x+9)=-147</td>\n",
       "      <td>4</td>\n",
       "      <td>2</td>\n",
       "      <td>3</td>\n",
       "      <td>1</td>\n",
       "      <td>2</td>\n",
       "      <td>0</td>\n",
       "      <td>0</td>\n",
       "    </tr>\n",
       "    <tr>\n",
       "      <td>40240</td>\n",
       "      <td>x+3*(x-1)-(x+9)=-147</td>\n",
       "      <td>4</td>\n",
       "      <td>2</td>\n",
       "      <td>3</td>\n",
       "      <td>1</td>\n",
       "      <td>2</td>\n",
       "      <td>0</td>\n",
       "      <td>0</td>\n",
       "    </tr>\n",
       "    <tr>\n",
       "      <td>40244</td>\n",
       "      <td>10=3*(x-2)-(x-18)</td>\n",
       "      <td>4</td>\n",
       "      <td>0</td>\n",
       "      <td>3</td>\n",
       "      <td>1</td>\n",
       "      <td>2</td>\n",
       "      <td>0</td>\n",
       "      <td>0</td>\n",
       "    </tr>\n",
       "    <tr>\n",
       "      <td>40245</td>\n",
       "      <td>10=3*(x-2)-(x-18)</td>\n",
       "      <td>4</td>\n",
       "      <td>0</td>\n",
       "      <td>3</td>\n",
       "      <td>1</td>\n",
       "      <td>2</td>\n",
       "      <td>0</td>\n",
       "      <td>0</td>\n",
       "    </tr>\n",
       "  </tbody>\n",
       "</table>\n",
       "</div>"
      ],
      "text/plain": [
       "                   equation  numbers_in_equation  additions  subtractions  \\\n",
       "40234  x+3*(x-1)-(x+9)=-147                    4          2             3   \n",
       "40235  x+3*(x-1)-(x+9)=-147                    4          2             3   \n",
       "40240  x+3*(x-1)-(x+9)=-147                    4          2             3   \n",
       "40244     10=3*(x-2)-(x-18)                    4          0             3   \n",
       "40245     10=3*(x-2)-(x-18)                    4          0             3   \n",
       "\n",
       "       multiplications  brackets  divisions  correct  \n",
       "40234                1         2          0        0  \n",
       "40235                1         2          0        0  \n",
       "40240                1         2          0        0  \n",
       "40244                1         2          0        0  \n",
       "40245                1         2          0        0  "
      ]
     },
     "execution_count": 7,
     "metadata": {},
     "output_type": "execute_result"
    }
   ],
   "source": [
    "# Focus on the rows with 0 on the <correct> column\n",
    "data = data.loc[data['correct'] == 0]\n",
    "data.tail()"
   ]
  },
  {
   "cell_type": "code",
   "execution_count": 8,
   "metadata": {},
   "outputs": [
    {
     "data": {
      "text/html": [
       "<div>\n",
       "<style scoped>\n",
       "    .dataframe tbody tr th:only-of-type {\n",
       "        vertical-align: middle;\n",
       "    }\n",
       "\n",
       "    .dataframe tbody tr th {\n",
       "        vertical-align: top;\n",
       "    }\n",
       "\n",
       "    .dataframe thead th {\n",
       "        text-align: right;\n",
       "    }\n",
       "</style>\n",
       "<table border=\"1\" class=\"dataframe\">\n",
       "  <thead>\n",
       "    <tr style=\"text-align: right;\">\n",
       "      <th></th>\n",
       "      <th>equation</th>\n",
       "      <th>numbers_in_equation</th>\n",
       "      <th>additions</th>\n",
       "      <th>subtractions</th>\n",
       "      <th>multiplications</th>\n",
       "      <th>brackets</th>\n",
       "      <th>divisions</th>\n",
       "    </tr>\n",
       "  </thead>\n",
       "  <tbody>\n",
       "    <tr>\n",
       "      <td>40234</td>\n",
       "      <td>x+3*(x-1)-(x+9)=-147</td>\n",
       "      <td>4</td>\n",
       "      <td>2</td>\n",
       "      <td>3</td>\n",
       "      <td>1</td>\n",
       "      <td>2</td>\n",
       "      <td>0</td>\n",
       "    </tr>\n",
       "    <tr>\n",
       "      <td>40235</td>\n",
       "      <td>x+3*(x-1)-(x+9)=-147</td>\n",
       "      <td>4</td>\n",
       "      <td>2</td>\n",
       "      <td>3</td>\n",
       "      <td>1</td>\n",
       "      <td>2</td>\n",
       "      <td>0</td>\n",
       "    </tr>\n",
       "    <tr>\n",
       "      <td>40240</td>\n",
       "      <td>x+3*(x-1)-(x+9)=-147</td>\n",
       "      <td>4</td>\n",
       "      <td>2</td>\n",
       "      <td>3</td>\n",
       "      <td>1</td>\n",
       "      <td>2</td>\n",
       "      <td>0</td>\n",
       "    </tr>\n",
       "    <tr>\n",
       "      <td>40244</td>\n",
       "      <td>10=3*(x-2)-(x-18)</td>\n",
       "      <td>4</td>\n",
       "      <td>0</td>\n",
       "      <td>3</td>\n",
       "      <td>1</td>\n",
       "      <td>2</td>\n",
       "      <td>0</td>\n",
       "    </tr>\n",
       "    <tr>\n",
       "      <td>40245</td>\n",
       "      <td>10=3*(x-2)-(x-18)</td>\n",
       "      <td>4</td>\n",
       "      <td>0</td>\n",
       "      <td>3</td>\n",
       "      <td>1</td>\n",
       "      <td>2</td>\n",
       "      <td>0</td>\n",
       "    </tr>\n",
       "  </tbody>\n",
       "</table>\n",
       "</div>"
      ],
      "text/plain": [
       "                   equation  numbers_in_equation  additions  subtractions  \\\n",
       "40234  x+3*(x-1)-(x+9)=-147                    4          2             3   \n",
       "40235  x+3*(x-1)-(x+9)=-147                    4          2             3   \n",
       "40240  x+3*(x-1)-(x+9)=-147                    4          2             3   \n",
       "40244     10=3*(x-2)-(x-18)                    4          0             3   \n",
       "40245     10=3*(x-2)-(x-18)                    4          0             3   \n",
       "\n",
       "       multiplications  brackets  divisions  \n",
       "40234                1         2          0  \n",
       "40235                1         2          0  \n",
       "40240                1         2          0  \n",
       "40244                1         2          0  \n",
       "40245                1         2          0  "
      ]
     },
     "execution_count": 8,
     "metadata": {},
     "output_type": "execute_result"
    }
   ],
   "source": [
    "# Now, remove the correct column, as it shall not be used during the clustering phase\n",
    "data.drop(['correct'], axis=1, inplace=True)\n",
    "data.tail()"
   ]
  },
  {
   "cell_type": "code",
   "execution_count": 9,
   "metadata": {},
   "outputs": [],
   "source": [
    "# Creates an equations_vector to hold equations and drops it from the main dataframe\n",
    "equations_vector = data[['equation']]\n",
    "equations_vector.tail()\n",
    "\n",
    "data.drop(['equation'], axis=1, inplace=True)"
   ]
  },
  {
   "cell_type": "code",
   "execution_count": 10,
   "metadata": {},
   "outputs": [
    {
     "data": {
      "text/html": [
       "<div>\n",
       "<style scoped>\n",
       "    .dataframe tbody tr th:only-of-type {\n",
       "        vertical-align: middle;\n",
       "    }\n",
       "\n",
       "    .dataframe tbody tr th {\n",
       "        vertical-align: top;\n",
       "    }\n",
       "\n",
       "    .dataframe thead th {\n",
       "        text-align: right;\n",
       "    }\n",
       "</style>\n",
       "<table border=\"1\" class=\"dataframe\">\n",
       "  <thead>\n",
       "    <tr style=\"text-align: right;\">\n",
       "      <th></th>\n",
       "      <th>numbers_in_equation</th>\n",
       "      <th>additions</th>\n",
       "      <th>subtractions</th>\n",
       "      <th>multiplications</th>\n",
       "      <th>brackets</th>\n",
       "      <th>divisions</th>\n",
       "    </tr>\n",
       "  </thead>\n",
       "  <tbody>\n",
       "    <tr>\n",
       "      <td>40234</td>\n",
       "      <td>4</td>\n",
       "      <td>2</td>\n",
       "      <td>3</td>\n",
       "      <td>1</td>\n",
       "      <td>2</td>\n",
       "      <td>0</td>\n",
       "    </tr>\n",
       "    <tr>\n",
       "      <td>40235</td>\n",
       "      <td>4</td>\n",
       "      <td>2</td>\n",
       "      <td>3</td>\n",
       "      <td>1</td>\n",
       "      <td>2</td>\n",
       "      <td>0</td>\n",
       "    </tr>\n",
       "    <tr>\n",
       "      <td>40240</td>\n",
       "      <td>4</td>\n",
       "      <td>2</td>\n",
       "      <td>3</td>\n",
       "      <td>1</td>\n",
       "      <td>2</td>\n",
       "      <td>0</td>\n",
       "    </tr>\n",
       "    <tr>\n",
       "      <td>40244</td>\n",
       "      <td>4</td>\n",
       "      <td>0</td>\n",
       "      <td>3</td>\n",
       "      <td>1</td>\n",
       "      <td>2</td>\n",
       "      <td>0</td>\n",
       "    </tr>\n",
       "    <tr>\n",
       "      <td>40245</td>\n",
       "      <td>4</td>\n",
       "      <td>0</td>\n",
       "      <td>3</td>\n",
       "      <td>1</td>\n",
       "      <td>2</td>\n",
       "      <td>0</td>\n",
       "    </tr>\n",
       "  </tbody>\n",
       "</table>\n",
       "</div>"
      ],
      "text/plain": [
       "       numbers_in_equation  additions  subtractions  multiplications  \\\n",
       "40234                    4          2             3                1   \n",
       "40235                    4          2             3                1   \n",
       "40240                    4          2             3                1   \n",
       "40244                    4          0             3                1   \n",
       "40245                    4          0             3                1   \n",
       "\n",
       "       brackets  divisions  \n",
       "40234         2          0  \n",
       "40235         2          0  \n",
       "40240         2          0  \n",
       "40244         2          0  \n",
       "40245         2          0  "
      ]
     },
     "execution_count": 10,
     "metadata": {},
     "output_type": "execute_result"
    }
   ],
   "source": [
    "data.tail()"
   ]
  },
  {
   "cell_type": "code",
   "execution_count": 11,
   "metadata": {},
   "outputs": [],
   "source": [
    "# Exports the dataframe without equation as a csv\n",
    "data.to_csv(r'C:\\Users\\dicog\\Desktop\\Mestrado\\Data Mining\\passos_clean2.csv', index=False, header=True)"
   ]
  },
  {
   "cell_type": "code",
   "execution_count": 12,
   "metadata": {},
   "outputs": [
    {
     "name": "stdout",
     "output_type": "stream",
     "text": [
      "[[2.60583942 0.43378519 0.7455683  0.01007994 0.30622176 0.14563782]\n",
      " [4.46404494 1.2164794  1.45018727 1.53895131 1.75205993 0.09325843]\n",
      " [4.93936053 0.72216097 2.07607497 0.31808159 4.21719956 1.83186329]\n",
      " [6.31761787 1.16914806 3.13358147 1.83788255 2.20554177 0.07237386]\n",
      " [8.46575342 1.34703196 2.69406393 0.05936073 6.80821918 3.37442922]]\n"
     ]
    }
   ],
   "source": [
    "# Applies k-means in order to get 3 clusters of similar equations that students most frequently get wrong\n",
    "kmeans = KMeans(n_clusters=5).fit(data)\n",
    "centroids = kmeans.cluster_centers_\n",
    "print(centroids)"
   ]
  },
  {
   "cell_type": "code",
   "execution_count": 13,
   "metadata": {
    "scrolled": true
   },
   "outputs": [
    {
     "data": {
      "text/plain": [
       "<matplotlib.axes._subplots.AxesSubplot at 0x2197204da08>"
      ]
     },
     "execution_count": 13,
     "metadata": {},
     "output_type": "execute_result"
    },
    {
     "data": {
      "image/png": "[encoded data removed]",
      "text/plain": [
       "<Figure size 432x288 with 1 Axes>"
      ]
     },
     "metadata": {
      "needs_background": "light"
     },
     "output_type": "display_data"
    }
   ],
   "source": [
    "ax = plt.gca()\n",
    "ax.scatter(data['brackets'], data['subtractions'])\n",
    "ax.scatter(data['additions'], data['numbers_in_equation'])\n",
    "ax.scatter(data['multiplications'], data['divisions'])\n",
    "ax.scatter(centroids[:, 0], centroids[:, 1], c='green', s=100, alpha=0.5)\n",
    "ax"
   ]
  },
  {
   "cell_type": "code",
   "execution_count": 14,
   "metadata": {},
   "outputs": [
    {
     "data": {
      "image/png": "[encoded data removed]",
      "text/plain": [
       "<Figure size 432x288 with 1 Axes>"
      ]
     },
     "metadata": {
      "needs_background": "light"
     },
     "output_type": "display_data"
    }
   ],
   "source": [
    "plt.scatter(data['brackets'], data['subtractions'], c= kmeans.labels_.astype(float), s=50, alpha=0.5)\n",
    "plt.scatter(centroids[:, 0], centroids[:, 1], c='red', s=50)\n",
    "plt.show()"
   ]
  },
  {
   "cell_type": "code",
   "execution_count": 15,
   "metadata": {},
   "outputs": [
    {
     "data": {
      "text/plain": [
       "array([[-0.87449262,  0.12941331, -0.63536408, -0.98595004, -1.22739028,\n",
       "        -0.56156837],\n",
       "       [-0.87449262,  0.12941331, -0.63536408, -0.98595004, -1.22739028,\n",
       "        -0.56156837],\n",
       "       [-1.43813221,  0.12941331, -1.43420338, -0.98595004, -1.22739028,\n",
       "        -0.56156837],\n",
       "       ...,\n",
       "       [-0.31085304,  1.33864162,  0.96231451,  0.0887914 , -0.00226693,\n",
       "        -0.56156837],\n",
       "       [-0.31085304, -1.079815  ,  0.96231451,  0.0887914 , -0.00226693,\n",
       "        -0.56156837],\n",
       "       [-0.31085304, -1.079815  ,  0.96231451,  0.0887914 , -0.00226693,\n",
       "        -0.56156837]])"
      ]
     },
     "execution_count": 15,
     "metadata": {},
     "output_type": "execute_result"
    }
   ],
   "source": [
    "X = StandardScaler().fit_transform(data)\n",
    "X"
   ]
  },
  {
   "cell_type": "code",
   "execution_count": 16,
   "metadata": {},
   "outputs": [
    {
     "data": {
      "text/plain": [
       "KMeans(algorithm='auto', copy_x=True, init='k-means++', max_iter=300,\n",
       "       n_clusters=12, n_init=10, n_jobs=None, precompute_distances='auto',\n",
       "       random_state=None, tol=0.0001, verbose=0)"
      ]
     },
     "execution_count": 16,
     "metadata": {},
     "output_type": "execute_result"
    }
   ],
   "source": [
    "#Set number of clusters at initialisation time\n",
    "k_means = KMeans(n_clusters=12)\n",
    "\n",
    "#Run the clustering algorithm\n",
    "model = k_means.fit(X)\n",
    "model"
   ]
  },
  {
   "cell_type": "code",
   "execution_count": 17,
   "metadata": {},
   "outputs": [],
   "source": [
    "#Generate cluster predictions and store in y_hat\n",
    "y_hat = k_means.predict(X)"
   ]
  },
  {
   "cell_type": "code",
   "execution_count": 18,
   "metadata": {},
   "outputs": [
    {
     "data": {
      "text/plain": [
       "0.4267268350209594"
      ]
     },
     "execution_count": 18,
     "metadata": {},
     "output_type": "execute_result"
    }
   ],
   "source": [
    "# Calculating the silhouette coefficient\n",
    "labels = k_means.labels_\n",
    "metrics.silhouette_score(X, labels, metric = 'euclidean')"
   ]
  },
  {
   "cell_type": "code",
   "execution_count": 19,
   "metadata": {},
   "outputs": [
    {
     "data": {
      "text/plain": [
       "4737.745091471318"
      ]
     },
     "execution_count": 19,
     "metadata": {},
     "output_type": "execute_result"
    }
   ],
   "source": [
    "# Calculating the Calinski Harabsz Score\n",
    "metrics.calinski_harabasz_score(X, labels)"
   ]
  },
  {
   "cell_type": "code",
   "execution_count": 20,
   "metadata": {},
   "outputs": [],
   "source": [
    "# Let us try this for another randomly chosen value i.e. n_clusters = 8\n",
    "k_means_8 = KMeans(n_clusters=8)\n",
    "model = k_means_8.fit(X)\n",
    "y_hat_8 = k_means_8.predict(X)"
   ]
  },
  {
   "cell_type": "code",
   "execution_count": 21,
   "metadata": {},
   "outputs": [
    {
     "data": {
      "text/plain": [
       "0.3867521404298572"
      ]
     },
     "execution_count": 21,
     "metadata": {},
     "output_type": "execute_result"
    }
   ],
   "source": [
    "# Once again, calculating the silhouette coefficient and CV scores\n",
    "labels_8 = k_means_8.labels_\n",
    "metrics.silhouette_score(X, labels_8, metric = 'euclidean')"
   ]
  },
  {
   "cell_type": "code",
   "execution_count": 22,
   "metadata": {},
   "outputs": [
    {
     "data": {
      "text/plain": [
       "4882.97803746801"
      ]
     },
     "execution_count": 22,
     "metadata": {},
     "output_type": "execute_result"
    }
   ],
   "source": [
    "# Calculating the Calinski Harabsz Score\n",
    "metrics.calinski_harabasz_score(X, labels_8)"
   ]
  },
  {
   "cell_type": "code",
   "execution_count": 23,
   "metadata": {},
   "outputs": [],
   "source": [
    "# An elbow plot shows at what value of k the distance between the mean of a cluster and the other data points is lowest\n",
    "# for each value of k, we can initialise k_means and use inertia to identify the sum of squared distances of samples \n",
    "# to the nearest cluster centre\n",
    "sum_of_squared_distances = []\n",
    "K = range(1,15)\n",
    "for k in K:\n",
    "    k_means = KMeans(n_clusters=k)\n",
    "    model = k_means.fit(X)\n",
    "    sum_of_squared_distances.append(k_means.inertia_)"
   ]
  },
  {
   "cell_type": "code",
   "execution_count": 24,
   "metadata": {},
   "outputs": [
    {
     "data": {
      "image/png": "[encoded data removed]",
      "text/plain": [
       "<Figure size 432x288 with 1 Axes>"
      ]
     },
     "metadata": {
      "needs_background": "light"
     },
     "output_type": "display_data"
    }
   ],
   "source": [
    "# It can be seen that the drop starts at 5, then 5 is the optimal number of clusters\n",
    "plt.plot(K, sum_of_squared_distances, 'bx-')\n",
    "plt.xlabel('k')\n",
    "plt.ylabel('sum_of_squared_distances')\n",
    "plt.title('elbow method for optimal k')\n",
    "plt.show()"
   ]
  },
  {
   "cell_type": "code",
   "execution_count": 25,
   "metadata": {},
   "outputs": [
    {
     "data": {
      "text/plain": [
       "5280.298141159172"
      ]
     },
     "execution_count": 25,
     "metadata": {},
     "output_type": "execute_result"
    }
   ],
   "source": [
    "# Verify by getting the Calinski Harabsz Score and the Silhouette Coefficient \n",
    "k_means_5 = KMeans(n_clusters=5)\n",
    "model = k_means_5.fit(X)\n",
    "y_hat_5 = k_means_5.predict(X)\n",
    "labels_5 = k_means_5.labels_\n",
    "metrics.silhouette_score(X, labels_5, metric = 'euclidean')\n",
    "metrics.calinski_harabasz_score(X, labels_5)"
   ]
  },
  {
   "cell_type": "code",
   "execution_count": 26,
   "metadata": {},
   "outputs": [
    {
     "data": {
      "image/png": "[encoded data removed]",
      "text/plain": [
       "<Figure size 432x288 with 1 Axes>"
      ]
     },
     "metadata": {
      "needs_background": "light"
     },
     "output_type": "display_data"
    }
   ],
   "source": [
    "kmeans = KMeans(n_clusters=3, init='k-means++', max_iter=300, n_init=10, random_state=0)\n",
    "pred_y = kmeans.fit_predict(X)\n",
    "plt.scatter(X[:,2], X[:,4])\n",
    "plt.scatter(kmeans.cluster_centers_[:, 0], kmeans.cluster_centers_[:, 1], s=300, c='red')\n",
    "plt.show()"
   ]
  }
 ],
 "metadata": {
  "kernelspec": {
   "display_name": "Python 3",
   "language": "python",
   "name": "python3"
  },
  "language_info": {
   "codemirror_mode": {
    "name": "ipython",
    "version": 3
   },
   "file_extension": ".py",
   "mimetype": "text/x-python",
   "name": "python",
   "nbconvert_exporter": "python",
   "pygments_lexer": "ipython3",
   "version": "3.7.4"
  }
 },
 "nbformat": 4,
 "nbformat_minor": 2
}
